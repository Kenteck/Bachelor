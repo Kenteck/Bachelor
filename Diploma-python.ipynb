{
 "cells": [
  {
   "cell_type": "code",
   "execution_count": 2,
   "metadata": {
    "collapsed": true
   },
   "outputs": [],
   "source": [
    "import numpy as np\n",
    "import math\n",
    "import matplotlib.pyplot as plt\n",
    "import matplotlib.animation as animation\n",
    "\n",
    "\n",
    "plt.rc('animation', html='html5')\n"
   ]
  },
  {
   "cell_type": "code",
   "execution_count": null,
   "metadata": {},
   "outputs": [
    {
     "name": "stdout",
     "output_type": "stream",
     "text": [
      "Done!\n"
     ]
    },
    {
     "data": {
      "image/png": "[encoded data removed]",
      "text/plain": [
       "<matplotlib.figure.Figure at 0x25a4f267b70>"
      ]
     },
     "metadata": {},
     "output_type": "display_data"
    }
   ],
   "source": [
    "NumberOfParticles = 3000\n",
    "Noise_amp = 0.1\n",
    "ParticlesPerUnit = 3\n",
    "RadiusSystem = int(np.sqrt( NumberOfParticles/ParticlesPerUnit )) + 1\n",
    "RatioOfInteraction = 1\n",
    "\n",
    "Distrib = np.random.poisson(1, NumberOfParticles) + 1\n",
    "Norm = np.amax(Distrib)  #Распределение\n",
    "P = 20.*Distrib/Norm\n",
    "dt=1./15\n",
    "\n",
    "degree = 2. * np.pi * np.random.random((NumberOfParticles, 1))\n",
    "degree_pos = 2. * np.pi * np.random.random((NumberOfParticles, 1))\n",
    "R0 = 0.1+0.9*np.random.random((NumberOfParticles, 1))\n",
    "Start_velocity_x = (P * np.cos(degree).transpose()).transpose()  # распределение скоростей\n",
    "Start_velocity_y = (P * np.sin(degree).transpose()).transpose() \n",
    "\n",
    "Start_coord_x = RadiusSystem * R0 * np.cos(degree_pos)\n",
    "Start_coord_y = RadiusSystem * R0 * np.sin(degree_pos) #распределение координат\n",
    "\n",
    "Velocity = np.column_stack((Start_velocity_x, Start_velocity_y))\n",
    "Coord = np.column_stack((Start_coord_x, Start_coord_y))\n",
    "Random_State = np.random.random((NumberOfParticles, 4))\n",
    "Random_State[:, 2:] = Velocity\n",
    "Random_State[:, :2] = Coord\n",
    "\n",
    "init_state = Random_State #Начальное состояние\n",
    "class ParticleBox:\n",
    "    def __init__(self,\n",
    "                init_state=[[1, 0, 0, 1],\n",
    "                            [-0.5, 0.5, 0.5, 0.5],\n",
    "                            [-0.5, -0.5, -0.5, 0.5]],\n",
    "                RadiusSystem=1,\n",
    "                RatioOfInteraction=1,\n",
    "                noise = 2*np.pi):\n",
    "        self.init_state = np.asarray(init_state,dtype=float)\n",
    "        self.noise = noise\n",
    "        self.noise_action = 0\n",
    "        self.state = self.init_state.copy()\n",
    "        self.RadiusSystem = RadiusSystem\n",
    "        self.RatioOfInteraction = RatioOfInteraction\n",
    "        self.R2 = self.RadiusSystem **2\n",
    "        self.lscl = np.empty(len(self.state[:,0]))\n",
    "        self.state_orts = self.init_state.copy()\n",
    "        self.tau = dt * np.ones(len(self.state[:, 0]))\n",
    "        self.mc = np.arange(3)\n",
    "        self.time_elapsed = 0\n",
    "        self.cellv0 = np.array(\n",
    "            [[self.RadiusSystem - 1, self.RadiusSystem - 1], [0, self.RadiusSystem - 1], [1, self.RadiusSystem - 1],\n",
    "             [self.RadiusSystem - 1, 0], [0, 0], [1, 0], [self.RadiusSystem - 1, 1], [0, 1], [1, 1]])\n",
    "        self.cellb = np.empty([self.R2,9])\n",
    "        self.block = np.empty(self.R2)\n",
    "        self.block[:] = -1\n",
    "        self.lscl[:] = -1\n",
    "        bx=0\n",
    "        by=0\n",
    "        for b in range(self.R2):\n",
    "            for j in range(8):\n",
    "                bx = self.cellv0[j, 0] + int(b % self.RadiusSystem) \n",
    "                by = self.cellv0[j, 0] + int(b // self.RadiusSystem)\n",
    "                self.cellb[b, j] = int(bx % self.RadiusSystem + (by % self.RadiusSystem) * self.RadiusSystem) #вектор каждой ячейки\n",
    "    \n",
    "    def step(self, dt):\n",
    "        \n",
    "        self.time_elapsed += dt\n",
    "        \n",
    "        self.block[:] = -1\n",
    "        self.state_orts[:, 2] = np.divide(self.state[:, 2], np.hypot(self.state[:, 2], self.state[:, 3]))\n",
    "        self.state_orts[:, 3] = np.divide(self.state[:, 3], np.hypot(self.state[:, 2], self.state[:, 3]))\n",
    "\n",
    "        n0 = 0\n",
    "        n1 = 0\n",
    "        Vx = 0\n",
    "        Vy = 0\n",
    "        for i in range(len(self.state[:, 0])):\n",
    "            self.lscl[i] = -1\n",
    "            b = int(math.floor(np.abs(self.state[i, 0]))) + self.RadiusSystem * int(math.floor(np.abs(self.state[i, 1])))\n",
    "            self.lscl[i] = self.block[b]\n",
    "            self.block[b] = i\n",
    "            \n",
    "        for b0 in range(self.R2):\n",
    "            f = int(self.block[b0])  \n",
    "            while f != -1:\n",
    "                for b1 in range(8):\n",
    "                    b2 = int(self.cellb[b0][b1])\n",
    "                    j = int(self.block[b2])  \n",
    "                    while j != -1:   #расчет дистанции между частицами в клетках\n",
    "                        dist = np.sqrt((self.state[f, 0] - self.state[j, 0]) ** 2 + (self.state[f, 1] - self.state[j, 1]) ** 2) \n",
    "                        \n",
    "\n",
    "                        if dist < self.RatioOfInteraction and f != j:\n",
    "                            n0 += self.state_orts[j, 2]\n",
    "                            n1 += self.state_orts[j, 3]\n",
    "\n",
    "                        j = int(self.lscl[j])\n",
    "                        \n",
    "                self.noise_action = self.noise * (np.pi - 2  * np.random.rand() * np.pi)\n",
    "                if (np.abs(n0) < 0.0001) & (np.abs(n1) < 0.0001): #недостаточно сильные взаимодействия не учитываются\n",
    "                    \n",
    "                    Vx = self.state_orts[f, 2]\n",
    "                    Vy = self.state_orts[f, 3]\n",
    "\n",
    "                    self.state_orts[f, 2] = Vx * np.cos(self.noise_action) - Vy * np.sin(self.noise_action)\n",
    "                    self.state_orts[f, 3] = Vx * np.sin(self.noise_action) + Vy * np.cos(self.noise_action)\n",
    "                else:\n",
    "                    self.state_orts[f, 2] = (n0 * np.cos(self.noise_action) - n1 * np.sin(self.noise_action)) / np.hypot(n0, n1)\n",
    "                    self.state_orts[f, 3] = (n0 * np.sin(self.noise_action) + n1 * np.cos(self.noise_action)) / np.hypot(n0, n1)\n",
    "\n",
    "                n0 = 0\n",
    "                n1 = 0\n",
    "                self.state[f, 2] = self.state_orts[f, 2]\n",
    "                self.state[f, 3] = self.state_orts[f, 3]\n",
    "                #####Периодические условия########\n",
    "                if (self.state[f, 0] + self.state[f, 2] * dt) ** 2 + (self.state[f, 1] + self.state[f, 3] * dt) ** 2 >= self.RadiusSystem ** 2:\n",
    "\n",
    "                    \n",
    "                    x01 = self.state[f, 0] + self.state[f, 2]\n",
    "                    y01 = self.state[f, 1] + self.state[f, 3]\n",
    "\n",
    "                    Vx = self.state[f, 2]\n",
    "                    Vy = self.state[f, 3]\n",
    "\n",
    "                    self.state[f, 3] = (Vy * (self.RadiusSystem ** 2 - 2. * y01 ** 2) - 2 * Vx * x01 * y01) / self.RadiusSystem ** 2\n",
    "                    self.state[f, 2] = (Vx * (self.RadiusSystem ** 2 - 2. * x01 ** 2) - 2 * Vy * x01 * y01) / self.RadiusSystem ** 2\n",
    "\n",
    "                    self.state[f, 0] = self.state[f, 0] + self.state[f, 2] * (dt)\n",
    "                    self.state[f, 1] = self.state[f, 1] + self.state[f, 3] * (dt)\n",
    "\n",
    "                    if self.state[f, 0] ** 2 + self.state[f, 1] ** 2 >= self.RadiusSystem ** 2:\n",
    "                        self.state[f, 0] = x01\n",
    "                        self.state[f, 1] = y01\n",
    "    \n",
    "                else:\n",
    "                    self.state[f, 0] += dt * self.state[f, 2]\n",
    "                    self.state[f, 1] += dt * self.state[f, 3]\n",
    "                            \n",
    "                f = int(self.lscl[f])\n",
    "box = ParticleBox(init_state, noise = Noise_amp, RatioOfInteraction=RatioOfInteraction, RadiusSystem=RadiusSystem)            \n",
    "\n",
    "fig = plt.figure()\n",
    "fig.subplots_adjust(left=0, right=1, bottom=0, top=1)\n",
    "ax = fig.add_subplot(111, aspect='equal', autoscale_on=False,\n",
    "                     xlim=(-RadiusSystem - 1, RadiusSystem + 1), ylim=(-RadiusSystem - 1, RadiusSystem + 1))\n",
    "\n",
    "particles, = ax.plot([], [], 'bo', ms=1)\n",
    "\n",
    "circ = plt.Circle((0, 0), RadiusSystem + 0.1,fill=False, lw=2)\n",
    "ax.add_patch(circ)\n",
    "\n",
    "\n",
    "def init():\n",
    "    global box\n",
    "    particles.set_data([], [])   \n",
    "    return particles, circ\n",
    "\n",
    "\n",
    "def animate(i):\n",
    "    global box, dt, ax, fig\n",
    "    box.step(dt)\n",
    "\n",
    "    ms = 0.25\n",
    "\n",
    "    particles.set_data(box.state[:, 0], box.state[:, 1])\n",
    "    particles.set_markersize(ms)\n",
    "    return particles,circ \n",
    "\n",
    "\n",
    "\n",
    "interval = 10\n",
    "\n",
    "ani = animation.FuncAnimation(fig, animate, frames=1500,\n",
    "                              interval=interval, blit=True, init_func=init)\n",
    "\n",
    "\n",
    "ani.save('particle_box_Viscek.mp4', fps=30)\n",
    "print(\"Done!\")\n",
    "plt.show()\n",
    "ani"
   ]
  },
  {
   "cell_type": "code",
   "execution_count": 19,
   "metadata": {
    "collapsed": true
   },
   "outputs": [],
   "source": [
    "cellv0 = np.array(\n",
    "            [[RadiusSystem - 1, RadiusSystem - 1], [0, RadiusSystem - 1], [1, RadiusSystem - 1],\n",
    "             [RadiusSystem - 1, 0], [0, 0], [1, 0], [RadiusSystem - 1, 1], [0, 1], [1, 1]])"
   ]
  },
  {
   "cell_type": "code",
   "execution_count": 3,
   "metadata": {
    "collapsed": true
   },
   "outputs": [],
   "source": [
    "NumberOfParticles = 10\n",
    "Distrib = np.random.poisson(1, NumberOfParticles) + 1\n",
    "Norm = np.amax(Distrib)  #Распределение\n",
    "P = 20.*Distrib/Norm\n",
    "dt=1./30\n",
    "\n",
    "degree = 2. * np.pi * np.random.random((NumberOfParticles, 1))\n",
    "degree_pos = 2. * np.pi * np.random.random((NumberOfParticles, 1))\n",
    "R0 = 0.1+0.9*np.random.random((NumberOfParticles, 1))\n",
    "Start_velocity_x = (P * np.cos(degree).transpose()).transpose() # распределение скорости\n",
    "Start_velocity_y = (P * np.sin(degree).transpose()).transpose()"
   ]
  },
  {
   "cell_type": "code",
   "execution_count": 6,
   "metadata": {
    "scrolled": true
   },
   "outputs": [
    {
     "data": {
      "text/plain": [
       "array([3, 2, 3, 2, 1, 3, 1, 1, 1, 1])"
      ]
     },
     "execution_count": 6,
     "metadata": {},
     "output_type": "execute_result"
    }
   ],
   "source": [
    "Distrib"
   ]
  },
  {
   "cell_type": "code",
   "execution_count": 31,
   "metadata": {},
   "outputs": [
    {
     "data": {
      "text/plain": [
       "3"
      ]
     },
     "execution_count": 31,
     "metadata": {},
     "output_type": "execute_result"
    }
   ],
   "source": [
    "Norm"
   ]
  },
  {
   "cell_type": "code",
   "execution_count": 32,
   "metadata": {},
   "outputs": [
    {
     "data": {
      "text/plain": [
       "array([ 20.        ,  13.33333333,  20.        ,  13.33333333,\n",
       "         6.66666667,  20.        ,   6.66666667,   6.66666667,\n",
       "         6.66666667,   6.66666667])"
      ]
     },
     "execution_count": 32,
     "metadata": {},
     "output_type": "execute_result"
    }
   ],
   "source": [
    "P"
   ]
  },
  {
   "cell_type": "code",
   "execution_count": 33,
   "metadata": {},
   "outputs": [
    {
     "data": {
      "text/plain": [
       "array([[ 0.23849421],\n",
       "       [ 1.07452707],\n",
       "       [ 4.2663019 ],\n",
       "       [ 5.50392193],\n",
       "       [ 0.89980938],\n",
       "       [ 0.58191952],\n",
       "       [ 2.00206999],\n",
       "       [ 0.07048296],\n",
       "       [ 4.23593228],\n",
       "       [ 0.4415164 ]])"
      ]
     },
     "execution_count": 33,
     "metadata": {},
     "output_type": "execute_result"
    }
   ],
   "source": [
    "degree"
   ]
  },
  {
   "cell_type": "code",
   "execution_count": 35,
   "metadata": {},
   "outputs": [
    {
     "data": {
      "text/plain": [
       "array([[ 19.43389608],\n",
       "       [  6.34864229],\n",
       "       [ -8.62877679],\n",
       "       [  9.48575196],\n",
       "       [  4.14506181],\n",
       "       [ 16.70818328],\n",
       "       [ -2.78685454],\n",
       "       [  6.65011403],\n",
       "       [ -3.05755599],\n",
       "       [  6.02736485]])"
      ]
     },
     "execution_count": 35,
     "metadata": {},
     "output_type": "execute_result"
    }
   ],
   "source": []
  },
  {
   "cell_type": "code",
   "execution_count": null,
   "metadata": {
    "collapsed": true
   },
   "outputs": [],
   "source": []
  }
 ],
 "metadata": {
  "kernelspec": {
   "display_name": "Python 3",
   "language": "python",
   "name": "python3"
  },
  "language_info": {
   "codemirror_mode": {
    "name": "ipython",
    "version": 3
   },
   "file_extension": ".py",
   "mimetype": "text/x-python",
   "name": "python",
   "nbconvert_exporter": "python",
   "pygments_lexer": "ipython3",
   "version": "3.6.3"
  }
 },
 "nbformat": 4,
 "nbformat_minor": 2
}
